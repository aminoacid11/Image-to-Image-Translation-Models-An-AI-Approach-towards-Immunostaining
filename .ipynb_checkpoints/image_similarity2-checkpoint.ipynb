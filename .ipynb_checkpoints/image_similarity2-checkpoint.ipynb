{
 "cells": [
  {
   "cell_type": "code",
   "execution_count": 9,
   "id": "ab25eed5",
   "metadata": {},
   "outputs": [
    {
     "name": "stdout",
     "output_type": "stream",
     "text": [
      "Keypoints 1ST Image: 17034\n",
      "Keypoints 2ND Image: 18249\n",
      "GOOD Matches: 52\n",
      "How good it's the match 0.3052718093225314\n"
     ]
    }
   ],
   "source": [
    "import cv2\n",
    "import numpy as np\n",
    "\n",
    "img_num = 1\n",
    "original = cv2.imread(\"data/membrane/IMAGES/r/real_{}.png\".format(img_num))\n",
    "# original = cv2.resize(original, (512,512))\n",
    "image_to_compare = cv2.imread(\"data/membrane/IMAGES/f/fake_{}.png\".format(img_num))\n",
    "# image_to_compare = cv2.resize(image_to_compare, (original.shape[1], original.shape[0]))\n",
    "\n",
    "# Check for similarities between the 2 images\n",
    "# sift = cv2.xfeatures2d.SIFT_create()\n",
    "sift = cv2.SIFT_create()\n",
    "kp_1, desc_1 = sift.detectAndCompute(original, None)\n",
    "kp_2, desc_2 = sift.detectAndCompute(image_to_compare, None)\n",
    "\n",
    "print(\"Keypoints 1ST Image: \" + str(len(kp_1)))\n",
    "print(\"Keypoints 2ND Image: \" + str(len(kp_2)))\n",
    "\n",
    "\n",
    "index_params = dict(algorithm=0, trees=5)\n",
    "search_params = dict()\n",
    "flann = cv2.FlannBasedMatcher(index_params, search_params)\n",
    "\n",
    "matches = flann.knnMatch(desc_1, desc_2, k=2)\n",
    "\n",
    "good_points = []\n",
    "for m, n in matches:\n",
    "    if m.distance < 0.75*n.distance:\n",
    "        good_points.append(m)\n",
    "        \n",
    "number_keypoints = 0\n",
    "if len(kp_1) <= len(kp_2):\n",
    "    number_keypoints = len(kp_1)\n",
    "else:\n",
    "    number_keypoints = len(kp_2)\n",
    "    \n",
    "\n",
    "print(\"GOOD Matches:\",len(good_points))\n",
    "print(\"How good it's the match\", len(good_points)/number_keypoints*100)\n",
    "\n",
    "result = cv2.drawMatches(original, kp_1, image_to_compare, kp_2, good_points, None)\n",
    "cv2.imshow(\"result\",cv2.resize(result, None, fx=0.3, fy=0.3))\n",
    "# cv2.imwrite(\"feature_matching.png\",result)\n",
    "        \n",
    "# cv2.imshow(\"Original\",cv2.resize(original, None, fx=0.3, fy=0.3))\n",
    "# cv2.imshow(\"Duplicate\",cv2.resize(image_to_compare, None, fx=0.3, fy=0.3))\n",
    "cv2.waitKey(0)\n",
    "cv2.destroyAllWindows()"
   ]
  },
  {
   "cell_type": "code",
   "execution_count": 2,
   "id": "da2fa0e9",
   "metadata": {},
   "outputs": [],
   "source": [
    "import cv2\n",
    "import numpy as np\n",
    "\n",
    "img_num = 2\n",
    "original = cv2.imread(\"data/membrane/IMAGES/r/real_{}.png\".format(img_num))\n",
    "image_to_compare = cv2.imread(\"data/membrane/IMAGES/f/fake_{}.png\".format(img_num))\n",
    "\n",
    "# checking Similarities Using ORB Algorithm\n",
    "orb = cv2.ORB_create()\n",
    "kp_1, desc_1 = orb.detectAndCompute(original,None)\n",
    "kp_2, desc_2 = orb.detectAndCompute(image_to_compare,None)\n",
    "\n",
    "matcher = cv2.BFMatcher(cv2.NORM_HAMMING)\n",
    "matches = matcher.knnMatch(desc_1,desc_2,k=2)\n",
    "\n",
    "good = []\n",
    "for m,n in matches:\n",
    "    if m.distance < 0.9*n.distance:\n",
    "        good.append([m])\n",
    "\n",
    "final_image = cv2.drawMatchesKnn(original,kp_1,image_to_compare,kp_2,good,None)\n",
    "cv2.imshow(\"result\",cv2.resize(final_image, None, fx=0.3, fy=0.3))\n",
    "# cv2.imwrite(\"feature_matching.png\",result)\n",
    "        \n",
    "# cv2.imshow(\"Original\",cv2.resize(original, None, fx=0.3, fy=0.3))\n",
    "# cv2.imshow(\"Duplicate\",cv2.resize(image_to_compare, None, fx=0.3, fy=0.3))\n",
    "cv2.waitKey(0)\n",
    "cv2.destroyAllWindows()"
   ]
  },
  {
   "cell_type": "code",
   "execution_count": null,
   "id": "c029de50",
   "metadata": {},
   "outputs": [],
   "source": []
  }
 ],
 "metadata": {
  "kernelspec": {
   "display_name": "Python 3 (ipykernel)",
   "language": "python",
   "name": "python3"
  },
  "language_info": {
   "codemirror_mode": {
    "name": "ipython",
    "version": 3
   },
   "file_extension": ".py",
   "mimetype": "text/x-python",
   "name": "python",
   "nbconvert_exporter": "python",
   "pygments_lexer": "ipython3",
   "version": "3.9.13"
  }
 },
 "nbformat": 4,
 "nbformat_minor": 5
}
